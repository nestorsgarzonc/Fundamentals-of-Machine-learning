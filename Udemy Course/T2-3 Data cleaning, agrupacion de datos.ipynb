{
 "cells": [
  {
   "cell_type": "code",
   "execution_count": 1,
   "metadata": {},
   "outputs": [],
   "source": [
    "import numpy as np\n",
    "import pandas as pd"
   ]
  },
  {
   "cell_type": "code",
   "execution_count": 2,
   "metadata": {},
   "outputs": [],
   "source": [
    "gender=['Male', 'Female']\n",
    "income=['Poor', 'Middle Class', 'Rich']"
   ]
  },
  {
   "cell_type": "code",
   "execution_count": 3,
   "metadata": {},
   "outputs": [],
   "source": [
    "gender_data=[]\n",
    "income_data=[]\n",
    "n=500\n",
    "\n",
    "for i in range(n):\n",
    "    gender_data.append(np.random.choice(gender))\n",
    "    income_data.append(np.random.choice(income))"
   ]
  },
  {
   "cell_type": "code",
   "execution_count": 4,
   "metadata": {},
   "outputs": [
    {
     "data": {
      "text/plain": [
       "['Female',\n",
       " 'Female',\n",
       " 'Male',\n",
       " 'Female',\n",
       " 'Male',\n",
       " 'Male',\n",
       " 'Female',\n",
       " 'Female',\n",
       " 'Male',\n",
       " 'Male']"
      ]
     },
     "execution_count": 4,
     "metadata": {},
     "output_type": "execute_result"
    }
   ],
   "source": [
    "gender_data[:10]"
   ]
  },
  {
   "cell_type": "code",
   "execution_count": 5,
   "metadata": {},
   "outputs": [
    {
     "data": {
      "text/plain": [
       "['Rich',\n",
       " 'Rich',\n",
       " 'Rich',\n",
       " 'Middle Class',\n",
       " 'Poor',\n",
       " 'Poor',\n",
       " 'Rich',\n",
       " 'Middle Class',\n",
       " 'Poor',\n",
       " 'Poor']"
      ]
     },
     "execution_count": 5,
     "metadata": {},
     "output_type": "execute_result"
    }
   ],
   "source": [
    "income_data[:10]"
   ]
  },
  {
   "cell_type": "code",
   "execution_count": 7,
   "metadata": {},
   "outputs": [],
   "source": [
    "#Z=(0,1) media y desviacion\n",
    "#N(m,s)=>m+s*Z\n",
    "height=160+30*np.random.randn(n)\n",
    "weight=65+25*np.random.randn(n)\n",
    "age=30 +12*np.random.randn(n)\n",
    "income=18000 +3500*np.random.randn(n)"
   ]
  },
  {
   "cell_type": "code",
   "execution_count": 8,
   "metadata": {},
   "outputs": [],
   "source": [
    "data=pd.DataFrame(\n",
    "    {\n",
    "        \"Gender\":gender_data,\n",
    "        \"Economic Status\":income_data,\n",
    "        \"Height\":height,\n",
    "        \"Weight\":weight,\n",
    "        \"Age\":age,\n",
    "        \"Income\":income\n",
    "    }\n",
    ")"
   ]
  },
  {
   "cell_type": "code",
   "execution_count": 9,
   "metadata": {},
   "outputs": [
    {
     "data": {
      "text/html": [
       "<div>\n",
       "<style scoped>\n",
       "    .dataframe tbody tr th:only-of-type {\n",
       "        vertical-align: middle;\n",
       "    }\n",
       "\n",
       "    .dataframe tbody tr th {\n",
       "        vertical-align: top;\n",
       "    }\n",
       "\n",
       "    .dataframe thead th {\n",
       "        text-align: right;\n",
       "    }\n",
       "</style>\n",
       "<table border=\"1\" class=\"dataframe\">\n",
       "  <thead>\n",
       "    <tr style=\"text-align: right;\">\n",
       "      <th></th>\n",
       "      <th>Gender</th>\n",
       "      <th>Economic Status</th>\n",
       "      <th>Height</th>\n",
       "      <th>Weight</th>\n",
       "      <th>Age</th>\n",
       "      <th>Income</th>\n",
       "    </tr>\n",
       "  </thead>\n",
       "  <tbody>\n",
       "    <tr>\n",
       "      <td>0</td>\n",
       "      <td>Female</td>\n",
       "      <td>Rich</td>\n",
       "      <td>140.158160</td>\n",
       "      <td>108.493334</td>\n",
       "      <td>22.877299</td>\n",
       "      <td>20805.735545</td>\n",
       "    </tr>\n",
       "    <tr>\n",
       "      <td>1</td>\n",
       "      <td>Female</td>\n",
       "      <td>Rich</td>\n",
       "      <td>134.199528</td>\n",
       "      <td>73.325596</td>\n",
       "      <td>22.280123</td>\n",
       "      <td>18706.151395</td>\n",
       "    </tr>\n",
       "    <tr>\n",
       "      <td>2</td>\n",
       "      <td>Male</td>\n",
       "      <td>Rich</td>\n",
       "      <td>159.990965</td>\n",
       "      <td>95.000314</td>\n",
       "      <td>36.476317</td>\n",
       "      <td>18280.537791</td>\n",
       "    </tr>\n",
       "    <tr>\n",
       "      <td>3</td>\n",
       "      <td>Female</td>\n",
       "      <td>Middle Class</td>\n",
       "      <td>156.532298</td>\n",
       "      <td>62.586353</td>\n",
       "      <td>34.255502</td>\n",
       "      <td>15842.695011</td>\n",
       "    </tr>\n",
       "    <tr>\n",
       "      <td>4</td>\n",
       "      <td>Male</td>\n",
       "      <td>Poor</td>\n",
       "      <td>181.622562</td>\n",
       "      <td>75.303963</td>\n",
       "      <td>2.473012</td>\n",
       "      <td>15422.229660</td>\n",
       "    </tr>\n",
       "  </tbody>\n",
       "</table>\n",
       "</div>"
      ],
      "text/plain": [
       "   Gender Economic Status      Height      Weight        Age        Income\n",
       "0  Female            Rich  140.158160  108.493334  22.877299  20805.735545\n",
       "1  Female            Rich  134.199528   73.325596  22.280123  18706.151395\n",
       "2    Male            Rich  159.990965   95.000314  36.476317  18280.537791\n",
       "3  Female    Middle Class  156.532298   62.586353  34.255502  15842.695011\n",
       "4    Male            Poor  181.622562   75.303963   2.473012  15422.229660"
      ]
     },
     "execution_count": 9,
     "metadata": {},
     "output_type": "execute_result"
    }
   ],
   "source": [
    "data.head()"
   ]
  },
  {
   "cell_type": "markdown",
   "metadata": {},
   "source": [
    "# Agrupcion de datos"
   ]
  },
  {
   "cell_type": "code",
   "execution_count": 11,
   "metadata": {},
   "outputs": [],
   "source": [
    "grouped_gender=data.groupby('Gender')"
   ]
  },
  {
   "cell_type": "code",
   "execution_count": 12,
   "metadata": {},
   "outputs": [
    {
     "data": {
      "text/plain": [
       "{'Female': Int64Index([  0,   1,   3,   6,   7,  11,  12,  15,  18,  19,\n",
       "             ...\n",
       "             482, 484, 485, 488, 489, 490, 492, 496, 498, 499],\n",
       "            dtype='int64', length=251),\n",
       " 'Male': Int64Index([  2,   4,   5,   8,   9,  10,  13,  14,  16,  17,\n",
       "             ...\n",
       "             480, 481, 483, 486, 487, 491, 493, 494, 495, 497],\n",
       "            dtype='int64', length=249)}"
      ]
     },
     "execution_count": 12,
     "metadata": {},
     "output_type": "execute_result"
    }
   ],
   "source": [
    "grouped_gender.groups"
   ]
  },
  {
   "cell_type": "code",
   "execution_count": 13,
   "metadata": {},
   "outputs": [
    {
     "name": "stdout",
     "output_type": "stream",
     "text": [
      "Female\n",
      "     Gender Economic Status      Height      Weight        Age        Income\n",
      "0    Female            Rich  140.158160  108.493334  22.877299  20805.735545\n",
      "1    Female            Rich  134.199528   73.325596  22.280123  18706.151395\n",
      "3    Female    Middle Class  156.532298   62.586353  34.255502  15842.695011\n",
      "6    Female            Rich  201.690886   45.989550  37.684465  17734.873468\n",
      "7    Female    Middle Class  174.119841   88.947356   6.544208  20533.362143\n",
      "..      ...             ...         ...         ...        ...           ...\n",
      "490  Female            Rich  124.807323   18.863083  32.639029  22136.028398\n",
      "492  Female            Poor  166.280347   71.579620  59.946705  23317.147660\n",
      "496  Female            Rich  204.006987   37.910161  41.329934  16162.981564\n",
      "498  Female            Poor  153.274056   79.656577  31.626900  15275.393612\n",
      "499  Female            Poor  177.262150   66.311765  21.730505  14351.181073\n",
      "\n",
      "[251 rows x 6 columns]\n",
      "Male\n",
      "    Gender Economic Status      Height      Weight        Age        Income\n",
      "2     Male            Rich  159.990965   95.000314  36.476317  18280.537791\n",
      "4     Male            Poor  181.622562   75.303963   2.473012  15422.229660\n",
      "5     Male            Poor  162.206473   30.783868  35.133496  23445.628230\n",
      "8     Male            Poor  172.626548  109.492541  32.142653  18312.304224\n",
      "9     Male            Poor  176.883190   48.019189  20.446686  15113.072661\n",
      "..     ...             ...         ...         ...        ...           ...\n",
      "491   Male            Rich  150.092992   66.240098  28.981508  14957.698735\n",
      "493   Male            Poor  175.905102   87.479303  45.587155  19520.074758\n",
      "494   Male            Poor  146.896383   92.396857  27.006546  21850.594084\n",
      "495   Male            Rich  172.714700    6.335666  29.876786  15493.475943\n",
      "497   Male    Middle Class  227.246935    2.205917  26.990598  15219.692288\n",
      "\n",
      "[249 rows x 6 columns]\n"
     ]
    }
   ],
   "source": [
    "for names, groups in grouped_gender:\n",
    "    print(names)\n",
    "    print(groups)"
   ]
  },
  {
   "cell_type": "code",
   "execution_count": 14,
   "metadata": {},
   "outputs": [
    {
     "data": {
      "text/html": [
       "<div>\n",
       "<style scoped>\n",
       "    .dataframe tbody tr th:only-of-type {\n",
       "        vertical-align: middle;\n",
       "    }\n",
       "\n",
       "    .dataframe tbody tr th {\n",
       "        vertical-align: top;\n",
       "    }\n",
       "\n",
       "    .dataframe thead th {\n",
       "        text-align: right;\n",
       "    }\n",
       "</style>\n",
       "<table border=\"1\" class=\"dataframe\">\n",
       "  <thead>\n",
       "    <tr style=\"text-align: right;\">\n",
       "      <th></th>\n",
       "      <th>Economic Status</th>\n",
       "      <th>Height</th>\n",
       "      <th>Weight</th>\n",
       "      <th>Age</th>\n",
       "      <th>Income</th>\n",
       "    </tr>\n",
       "  </thead>\n",
       "  <tbody>\n",
       "    <tr>\n",
       "      <td>0</td>\n",
       "      <td>Rich</td>\n",
       "      <td>140.158160</td>\n",
       "      <td>108.493334</td>\n",
       "      <td>22.877299</td>\n",
       "      <td>20805.735545</td>\n",
       "    </tr>\n",
       "    <tr>\n",
       "      <td>1</td>\n",
       "      <td>Rich</td>\n",
       "      <td>134.199528</td>\n",
       "      <td>73.325596</td>\n",
       "      <td>22.280123</td>\n",
       "      <td>18706.151395</td>\n",
       "    </tr>\n",
       "    <tr>\n",
       "      <td>3</td>\n",
       "      <td>Middle Class</td>\n",
       "      <td>156.532298</td>\n",
       "      <td>62.586353</td>\n",
       "      <td>34.255502</td>\n",
       "      <td>15842.695011</td>\n",
       "    </tr>\n",
       "    <tr>\n",
       "      <td>6</td>\n",
       "      <td>Rich</td>\n",
       "      <td>201.690886</td>\n",
       "      <td>45.989550</td>\n",
       "      <td>37.684465</td>\n",
       "      <td>17734.873468</td>\n",
       "    </tr>\n",
       "    <tr>\n",
       "      <td>7</td>\n",
       "      <td>Middle Class</td>\n",
       "      <td>174.119841</td>\n",
       "      <td>88.947356</td>\n",
       "      <td>6.544208</td>\n",
       "      <td>20533.362143</td>\n",
       "    </tr>\n",
       "    <tr>\n",
       "      <td>...</td>\n",
       "      <td>...</td>\n",
       "      <td>...</td>\n",
       "      <td>...</td>\n",
       "      <td>...</td>\n",
       "      <td>...</td>\n",
       "    </tr>\n",
       "    <tr>\n",
       "      <td>490</td>\n",
       "      <td>Rich</td>\n",
       "      <td>124.807323</td>\n",
       "      <td>18.863083</td>\n",
       "      <td>32.639029</td>\n",
       "      <td>22136.028398</td>\n",
       "    </tr>\n",
       "    <tr>\n",
       "      <td>492</td>\n",
       "      <td>Poor</td>\n",
       "      <td>166.280347</td>\n",
       "      <td>71.579620</td>\n",
       "      <td>59.946705</td>\n",
       "      <td>23317.147660</td>\n",
       "    </tr>\n",
       "    <tr>\n",
       "      <td>496</td>\n",
       "      <td>Rich</td>\n",
       "      <td>204.006987</td>\n",
       "      <td>37.910161</td>\n",
       "      <td>41.329934</td>\n",
       "      <td>16162.981564</td>\n",
       "    </tr>\n",
       "    <tr>\n",
       "      <td>498</td>\n",
       "      <td>Poor</td>\n",
       "      <td>153.274056</td>\n",
       "      <td>79.656577</td>\n",
       "      <td>31.626900</td>\n",
       "      <td>15275.393612</td>\n",
       "    </tr>\n",
       "    <tr>\n",
       "      <td>499</td>\n",
       "      <td>Poor</td>\n",
       "      <td>177.262150</td>\n",
       "      <td>66.311765</td>\n",
       "      <td>21.730505</td>\n",
       "      <td>14351.181073</td>\n",
       "    </tr>\n",
       "  </tbody>\n",
       "</table>\n",
       "<p>251 rows × 5 columns</p>\n",
       "</div>"
      ],
      "text/plain": [
       "    Economic Status      Height      Weight        Age        Income\n",
       "0              Rich  140.158160  108.493334  22.877299  20805.735545\n",
       "1              Rich  134.199528   73.325596  22.280123  18706.151395\n",
       "3      Middle Class  156.532298   62.586353  34.255502  15842.695011\n",
       "6              Rich  201.690886   45.989550  37.684465  17734.873468\n",
       "7      Middle Class  174.119841   88.947356   6.544208  20533.362143\n",
       "..              ...         ...         ...        ...           ...\n",
       "490            Rich  124.807323   18.863083  32.639029  22136.028398\n",
       "492            Poor  166.280347   71.579620  59.946705  23317.147660\n",
       "496            Rich  204.006987   37.910161  41.329934  16162.981564\n",
       "498            Poor  153.274056   79.656577  31.626900  15275.393612\n",
       "499            Poor  177.262150   66.311765  21.730505  14351.181073\n",
       "\n",
       "[251 rows x 5 columns]"
      ]
     },
     "execution_count": 14,
     "metadata": {},
     "output_type": "execute_result"
    }
   ],
   "source": [
    "grouped_gender.get_group('Female')"
   ]
  },
  {
   "cell_type": "code",
   "execution_count": 16,
   "metadata": {},
   "outputs": [],
   "source": [
    "double_group=data.groupby(['Gender', 'Economic Status'])"
   ]
  },
  {
   "cell_type": "code",
   "execution_count": 18,
   "metadata": {},
   "outputs": [
    {
     "data": {
      "text/plain": [
       "6"
      ]
     },
     "execution_count": 18,
     "metadata": {},
     "output_type": "execute_result"
    }
   ],
   "source": [
    "len(double_group)"
   ]
  },
  {
   "cell_type": "code",
   "execution_count": 19,
   "metadata": {},
   "outputs": [
    {
     "name": "stdout",
     "output_type": "stream",
     "text": [
      "('Female', 'Middle Class')\n",
      "     Gender Economic Status      Height     Weight        Age        Income\n",
      "3    Female    Middle Class  156.532298  62.586353  34.255502  15842.695011\n",
      "7    Female    Middle Class  174.119841  88.947356   6.544208  20533.362143\n",
      "19   Female    Middle Class  161.550577  64.844292   4.842190  18558.254147\n",
      "24   Female    Middle Class  175.670174  59.516370  54.149438  14995.633289\n",
      "40   Female    Middle Class  184.774563  63.701108   9.649233  25301.043585\n",
      "..      ...             ...         ...        ...        ...           ...\n",
      "448  Female    Middle Class  176.524721  96.841919  44.875017  20783.410390\n",
      "452  Female    Middle Class  125.797333  72.118699  35.458382  20132.419539\n",
      "457  Female    Middle Class  152.256732  71.644747  32.303908  16550.812632\n",
      "458  Female    Middle Class  175.710054  79.448360  24.104298  23208.722611\n",
      "485  Female    Middle Class  168.459921  59.622333  42.109138  24197.287199\n",
      "\n",
      "[82 rows x 6 columns]\n",
      "('Female', 'Poor')\n",
      "     Gender Economic Status      Height     Weight        Age        Income\n",
      "12   Female            Poor  155.758022  77.543800  26.583653  19210.352028\n",
      "18   Female            Poor  159.563740  76.396666  13.827212  13543.384378\n",
      "23   Female            Poor  145.145173  67.013472  34.259391  17862.314642\n",
      "25   Female            Poor  189.077571  96.807472  22.153690  19362.302470\n",
      "32   Female            Poor  234.465508  58.902866  41.975639  15722.073123\n",
      "..      ...             ...         ...        ...        ...           ...\n",
      "468  Female            Poor  195.987808  95.350879  37.509933  20391.681954\n",
      "475  Female            Poor  197.339736  66.598122   4.237323  12927.988783\n",
      "492  Female            Poor  166.280347  71.579620  59.946705  23317.147660\n",
      "498  Female            Poor  153.274056  79.656577  31.626900  15275.393612\n",
      "499  Female            Poor  177.262150  66.311765  21.730505  14351.181073\n",
      "\n",
      "[67 rows x 6 columns]\n",
      "('Female', 'Rich')\n",
      "     Gender Economic Status      Height      Weight        Age        Income\n",
      "0    Female            Rich  140.158160  108.493334  22.877299  20805.735545\n",
      "1    Female            Rich  134.199528   73.325596  22.280123  18706.151395\n",
      "6    Female            Rich  201.690886   45.989550  37.684465  17734.873468\n",
      "11   Female            Rich  203.068172   83.064555  23.166837  20841.801858\n",
      "15   Female            Rich  130.623986   28.257564  12.966934  20816.030205\n",
      "..      ...             ...         ...         ...        ...           ...\n",
      "484  Female            Rich  128.746051   61.683601  28.535701  14132.613232\n",
      "488  Female            Rich  157.872782   76.715976  41.357303  16904.182066\n",
      "489  Female            Rich  176.712835   65.728743  21.444097  23910.274603\n",
      "490  Female            Rich  124.807323   18.863083  32.639029  22136.028398\n",
      "496  Female            Rich  204.006987   37.910161  41.329934  16162.981564\n",
      "\n",
      "[102 rows x 6 columns]\n",
      "('Male', 'Middle Class')\n",
      "    Gender Economic Status      Height      Weight        Age        Income\n",
      "16    Male    Middle Class  180.268719   51.048404  40.068501  19686.467782\n",
      "28    Male    Middle Class  172.987025   21.548323  22.920112  19753.035162\n",
      "39    Male    Middle Class  161.780886   89.561409  26.604372  14432.359131\n",
      "46    Male    Middle Class  187.806826   35.676847  40.511161  17872.309581\n",
      "51    Male    Middle Class  149.519707  106.629740  16.909957  21603.950516\n",
      "..     ...             ...         ...         ...        ...           ...\n",
      "469   Male    Middle Class  144.303017   11.442313   3.698478  19626.204210\n",
      "472   Male    Middle Class  152.453797   89.714324  30.472625  17044.470209\n",
      "477   Male    Middle Class  154.939776   61.444679  44.189466  14382.913454\n",
      "483   Male    Middle Class  164.301361   20.466622  41.509298  15178.061617\n",
      "497   Male    Middle Class  227.246935    2.205917  26.990598  15219.692288\n",
      "\n",
      "[82 rows x 6 columns]\n",
      "('Male', 'Poor')\n",
      "    Gender Economic Status      Height      Weight        Age        Income\n",
      "4     Male            Poor  181.622562   75.303963   2.473012  15422.229660\n",
      "5     Male            Poor  162.206473   30.783868  35.133496  23445.628230\n",
      "8     Male            Poor  172.626548  109.492541  32.142653  18312.304224\n",
      "9     Male            Poor  176.883190   48.019189  20.446686  15113.072661\n",
      "10    Male            Poor  167.145573   63.980886  14.997139  25615.062507\n",
      "..     ...             ...         ...         ...        ...           ...\n",
      "471   Male            Poor  198.503312  114.401432  25.400962  21126.739157\n",
      "480   Male            Poor  153.494437   82.695650  35.463533  20606.885686\n",
      "481   Male            Poor  132.761265   50.755850  20.141497  20068.224683\n",
      "493   Male            Poor  175.905102   87.479303  45.587155  19520.074758\n",
      "494   Male            Poor  146.896383   92.396857  27.006546  21850.594084\n",
      "\n",
      "[87 rows x 6 columns]\n",
      "('Male', 'Rich')\n",
      "    Gender Economic Status      Height      Weight        Age        Income\n",
      "2     Male            Rich  159.990965   95.000314  36.476317  18280.537791\n",
      "27    Male            Rich  221.093956   37.206222  40.344053  19635.104527\n",
      "30    Male            Rich  162.932651   80.734315  30.407438  20332.851022\n",
      "31    Male            Rich  135.912320   23.780528  16.449250  16327.435423\n",
      "47    Male            Rich  162.662757   65.230617  44.216629  15756.054918\n",
      "..     ...             ...         ...         ...        ...           ...\n",
      "476   Male            Rich  146.897577   89.664682  35.002751  18153.101642\n",
      "486   Male            Rich  144.488276   83.961856  37.503262  18288.073750\n",
      "487   Male            Rich  185.032834  110.826885  38.494161  13129.955723\n",
      "491   Male            Rich  150.092992   66.240098  28.981508  14957.698735\n",
      "495   Male            Rich  172.714700    6.335666  29.876786  15493.475943\n",
      "\n",
      "[80 rows x 6 columns]\n"
     ]
    }
   ],
   "source": [
    "for names, groups in double_group:\n",
    "    print(names)\n",
    "    print(groups)"
   ]
  },
  {
   "cell_type": "code",
   "execution_count": null,
   "metadata": {},
   "outputs": [],
   "source": []
  }
 ],
 "metadata": {
  "kernelspec": {
   "display_name": "Python 3",
   "language": "python",
   "name": "python3"
  },
  "language_info": {
   "codemirror_mode": {
    "name": "ipython",
    "version": 3
   },
   "file_extension": ".py",
   "mimetype": "text/x-python",
   "name": "python",
   "nbconvert_exporter": "python",
   "pygments_lexer": "ipython3",
   "version": "3.7.4"
  }
 },
 "nbformat": 4,
 "nbformat_minor": 2
}
