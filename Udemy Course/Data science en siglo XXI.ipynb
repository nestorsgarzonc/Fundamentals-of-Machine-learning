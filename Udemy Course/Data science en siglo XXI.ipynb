{
 "cells": [
  {
   "cell_type": "markdown",
   "metadata": {},
   "source": [
    " Muchos data sets dispuestos a las personas para ser aprovechados\n",
    " \n",
    " # Modelos predictivos\n",
    " \n",
    " Cada minuto se sube 72 horas en youtube, en facebook son 2.500.000 fragmentos de contenido\n",
    " \n",
    " Cada dia se crea 2.5 exabyte de informacion\n",
    " Con cada accion en internet se crean datos.\n",
    " \n",
    " <b>Los datos es el nuevo petroleo</b>\n",
    " \n",
    " <b>La IA es la electricidad del futuro</b>\n",
    " \n",
    " \n",
    " Los datos se pueden analizar de dos formas:\n",
    "     1. Analisis retrospectivo:\n",
    "     Analizar historia, momentos clave para explicar fallos y oportunidades.\n",
    "     2. Analisis predictivo:\n",
    "     Quien hace trampa, morir, precio acciones, que va a pasar en un futuro\n",
    "   \n",
    "   Analogia petroleo y datos\n",
    "   \n",
    " <b>Las empresas se mueven segun datos</br>"
   ]
  },
  {
   "cell_type": "code",
   "execution_count": null,
   "metadata": {},
   "outputs": [],
   "source": []
  }
 ],
 "metadata": {
  "kernelspec": {
   "display_name": "Python 3",
   "language": "python",
   "name": "python3"
  },
  "language_info": {
   "codemirror_mode": {
    "name": "ipython",
    "version": 3
   },
   "file_extension": ".py",
   "mimetype": "text/x-python",
   "name": "python",
   "nbconvert_exporter": "python",
   "pygments_lexer": "ipython3",
   "version": "3.7.5"
  }
 },
 "nbformat": 4,
 "nbformat_minor": 2
}
