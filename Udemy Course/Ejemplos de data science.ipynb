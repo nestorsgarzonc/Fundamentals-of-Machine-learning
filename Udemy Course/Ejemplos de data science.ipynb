{
 "cells": [
  {
   "cell_type": "markdown",
   "metadata": {},
   "source": [
    "Datos son como el petroleo\n",
    "Sugerencias de personas en linkedin\n",
    "\n",
    "Publicidad facebook, Google\n",
    "\n",
    "CTR= click to retail\n",
    "\n",
    "Arboles de decicion se usan para saber si una persona va a hacer click en el anuncio o comprar x producto\n",
    "\n",
    "Regresion logistica es usada para decidir sobre na decision en binario (si o no)\n",
    "\n",
    "Se le otorga un credito a una persona\n",
    "\n",
    "Predecir crimenes (metodo usado en españa) \n",
    "\n",
    "Que hace un usuario en el telefono.\n",
    "\n",
    "Deportes en las cuales se usa la estadistica para ganar\n",
    "\n"
   ]
  }
 ],
 "metadata": {
  "kernelspec": {
   "display_name": "Python 3",
   "language": "python",
   "name": "python3"
  },
  "language_info": {
   "codemirror_mode": {
    "name": "ipython",
    "version": 3
   },
   "file_extension": ".py",
   "mimetype": "text/x-python",
   "name": "python",
   "nbconvert_exporter": "python",
   "pygments_lexer": "ipython3",
   "version": "3.7.5"
  }
 },
 "nbformat": 4,
 "nbformat_minor": 2
}
