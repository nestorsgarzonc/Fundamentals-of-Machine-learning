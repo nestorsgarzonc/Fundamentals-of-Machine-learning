{
 "cells": [
  {
   "cell_type": "markdown",
   "metadata": {},
   "source": [
    "Importar datos que necesitamos\n",
    "\n",
    "Analisis predictivo= mas que arte que ciencia\n",
    "Pandas es usado para limpieza de datos\n",
    "\n",
    "Obtener\n",
    "Cargar\n",
    "Analizar, obtener informacion basica\n",
    "Ver valores faltantes\n",
    "Variables dummy usadas regresion categorica\n",
    "Se analizan datos con plots\n",
    "\n",
    "\n",
    "**Practicar**"
   ]
  },
  {
   "cell_type": "code",
   "execution_count": null,
   "metadata": {},
   "outputs": [],
   "source": []
  }
 ],
 "metadata": {
  "kernelspec": {
   "display_name": "Python 3",
   "language": "python",
   "name": "python3"
  },
  "language_info": {
   "codemirror_mode": {
    "name": "ipython",
    "version": 3
   },
   "file_extension": ".py",
   "mimetype": "text/x-python",
   "name": "python",
   "nbconvert_exporter": "python",
   "pygments_lexer": "ipython3",
   "version": "3.7.5"
  }
 },
 "nbformat": 4,
 "nbformat_minor": 2
}
