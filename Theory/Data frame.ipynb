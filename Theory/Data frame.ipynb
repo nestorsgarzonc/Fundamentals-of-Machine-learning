{
 "cells": [
  {
   "cell_type": "markdown",
   "metadata": {},
   "source": [
    "# Estructuracion de datos\n",
    "\n",
    "Un dataset es un fichero que cuando se carga en un programa se vuelve un dataframe.\n",
    "Se puede ver como un diccionario y se usan etiquetas para marcar las filas y columnas\n",
    "\n",
    "CSV= coma separated value\n",
    "Delimitador es el que separa las columnas, generalmente se usan comas.\n",
    "\n",
    "Pedir informacion basica del dataset si no se entiende, documentar el dataset.\n"
   ]
  },
  {
   "cell_type": "code",
   "execution_count": null,
   "metadata": {},
   "outputs": [],
   "source": []
  }
 ],
 "metadata": {
  "kernelspec": {
   "display_name": "Python 3",
   "language": "python",
   "name": "python3"
  },
  "language_info": {
   "codemirror_mode": {
    "name": "ipython",
    "version": 3
   },
   "file_extension": ".py",
   "mimetype": "text/x-python",
   "name": "python",
   "nbconvert_exporter": "python",
   "pygments_lexer": "ipython3",
   "version": "3.7.5"
  }
 },
 "nbformat": 4,
 "nbformat_minor": 2
}
